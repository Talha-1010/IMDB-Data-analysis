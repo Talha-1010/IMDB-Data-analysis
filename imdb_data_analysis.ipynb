{
 "cells": [
  {
   "cell_type": "markdown",
   "id": "c7135464",
   "metadata": {},
   "source": [
    "# importing pandas"
   ]
  },
  {
   "cell_type": "code",
   "execution_count": 1,
   "id": "c4333a1a",
   "metadata": {},
   "outputs": [],
   "source": [
    "import pandas as pd"
   ]
  },
  {
   "cell_type": "code",
   "execution_count": 2,
   "id": "75652b6f",
   "metadata": {
    "scrolled": true
   },
   "outputs": [],
   "source": [
    "names = [\"id\",\"title\",\"year\",\"rating\",\"votes\",\"length\",\"genres\"]"
   ]
  },
  {
   "cell_type": "code",
   "execution_count": 3,
   "id": "d9875749",
   "metadata": {},
   "outputs": [
    {
     "name": "stderr",
     "output_type": "stream",
     "text": [
      "c:\\python39\\lib\\site-packages\\IPython\\core\\interactiveshell.py:3441: FutureWarning: In a future version of pandas all arguments of read_csv except for the argument 'filepath_or_buffer' will be keyword-only\n",
      "  exec(code_obj, self.user_global_ns, self.user_ns)\n"
     ]
    }
   ],
   "source": [
    "data = pd.read_csv(\"imdb_top_10000.txt\", \"\\t\",names=names,index_col=0)"
   ]
  },
  {
   "cell_type": "code",
   "execution_count": 4,
   "id": "a9cc697d",
   "metadata": {},
   "outputs": [
    {
     "data": {
      "text/html": [
       "<div>\n",
       "<style scoped>\n",
       "    .dataframe tbody tr th:only-of-type {\n",
       "        vertical-align: middle;\n",
       "    }\n",
       "\n",
       "    .dataframe tbody tr th {\n",
       "        vertical-align: top;\n",
       "    }\n",
       "\n",
       "    .dataframe thead th {\n",
       "        text-align: right;\n",
       "    }\n",
       "</style>\n",
       "<table border=\"1\" class=\"dataframe\">\n",
       "  <thead>\n",
       "    <tr style=\"text-align: right;\">\n",
       "      <th></th>\n",
       "      <th>title</th>\n",
       "      <th>year</th>\n",
       "      <th>rating</th>\n",
       "      <th>votes</th>\n",
       "      <th>length</th>\n",
       "      <th>genres</th>\n",
       "    </tr>\n",
       "    <tr>\n",
       "      <th>id</th>\n",
       "      <th></th>\n",
       "      <th></th>\n",
       "      <th></th>\n",
       "      <th></th>\n",
       "      <th></th>\n",
       "      <th></th>\n",
       "    </tr>\n",
       "  </thead>\n",
       "  <tbody>\n",
       "    <tr>\n",
       "      <th>tt0111161</th>\n",
       "      <td>The Shawshank Redemption (1994)</td>\n",
       "      <td>1994</td>\n",
       "      <td>9.2</td>\n",
       "      <td>619479</td>\n",
       "      <td>142 mins.</td>\n",
       "      <td>Crime|Drama</td>\n",
       "    </tr>\n",
       "    <tr>\n",
       "      <th>tt0110912</th>\n",
       "      <td>Pulp Fiction (1994)</td>\n",
       "      <td>1994</td>\n",
       "      <td>9.0</td>\n",
       "      <td>490065</td>\n",
       "      <td>154 mins.</td>\n",
       "      <td>Crime|Thriller</td>\n",
       "    </tr>\n",
       "    <tr>\n",
       "      <th>tt0137523</th>\n",
       "      <td>Fight Club (1999)</td>\n",
       "      <td>1999</td>\n",
       "      <td>8.8</td>\n",
       "      <td>458173</td>\n",
       "      <td>139 mins.</td>\n",
       "      <td>Drama|Mystery|Thriller</td>\n",
       "    </tr>\n",
       "    <tr>\n",
       "      <th>tt0133093</th>\n",
       "      <td>The Matrix (1999)</td>\n",
       "      <td>1999</td>\n",
       "      <td>8.7</td>\n",
       "      <td>448114</td>\n",
       "      <td>136 mins.</td>\n",
       "      <td>Action|Adventure|Sci-Fi</td>\n",
       "    </tr>\n",
       "    <tr>\n",
       "      <th>tt1375666</th>\n",
       "      <td>Inception (2010)</td>\n",
       "      <td>2010</td>\n",
       "      <td>8.9</td>\n",
       "      <td>385149</td>\n",
       "      <td>148 mins.</td>\n",
       "      <td>Action|Adventure|Sci-Fi|Thriller</td>\n",
       "    </tr>\n",
       "    <tr>\n",
       "      <th>...</th>\n",
       "      <td>...</td>\n",
       "      <td>...</td>\n",
       "      <td>...</td>\n",
       "      <td>...</td>\n",
       "      <td>...</td>\n",
       "      <td>...</td>\n",
       "    </tr>\n",
       "    <tr>\n",
       "      <th>tt0807721</th>\n",
       "      <td>Meduzot (2007)</td>\n",
       "      <td>2007</td>\n",
       "      <td>7.0</td>\n",
       "      <td>1357</td>\n",
       "      <td>78 mins.</td>\n",
       "      <td>Drama</td>\n",
       "    </tr>\n",
       "    <tr>\n",
       "      <th>tt0339642</th>\n",
       "      <td>Daltry Calhoun (2005)</td>\n",
       "      <td>2005</td>\n",
       "      <td>5.2</td>\n",
       "      <td>1357</td>\n",
       "      <td>100 mins.</td>\n",
       "      <td>Comedy|Drama|Music|Romance</td>\n",
       "    </tr>\n",
       "    <tr>\n",
       "      <th>tt0060880</th>\n",
       "      <td>The Quiller Memorandum (1966)</td>\n",
       "      <td>1966</td>\n",
       "      <td>6.5</td>\n",
       "      <td>1356</td>\n",
       "      <td>104 mins.</td>\n",
       "      <td>Drama|Mystery|Thriller</td>\n",
       "    </tr>\n",
       "    <tr>\n",
       "      <th>tt0152836</th>\n",
       "      <td>Taal (1999)</td>\n",
       "      <td>1999</td>\n",
       "      <td>6.5</td>\n",
       "      <td>1356</td>\n",
       "      <td>179 mins.</td>\n",
       "      <td>Musical|Romance</td>\n",
       "    </tr>\n",
       "    <tr>\n",
       "      <th>tt0279977</th>\n",
       "      <td>The Navigators (2001)</td>\n",
       "      <td>2001</td>\n",
       "      <td>6.9</td>\n",
       "      <td>1356</td>\n",
       "      <td>96 mins.</td>\n",
       "      <td>Comedy|Drama</td>\n",
       "    </tr>\n",
       "  </tbody>\n",
       "</table>\n",
       "<p>10000 rows × 6 columns</p>\n",
       "</div>"
      ],
      "text/plain": [
       "                                     title  year  rating   votes     length  \\\n",
       "id                                                                            \n",
       "tt0111161  The Shawshank Redemption (1994)  1994     9.2  619479  142 mins.   \n",
       "tt0110912              Pulp Fiction (1994)  1994     9.0  490065  154 mins.   \n",
       "tt0137523                Fight Club (1999)  1999     8.8  458173  139 mins.   \n",
       "tt0133093                The Matrix (1999)  1999     8.7  448114  136 mins.   \n",
       "tt1375666                 Inception (2010)  2010     8.9  385149  148 mins.   \n",
       "...                                    ...   ...     ...     ...        ...   \n",
       "tt0807721                   Meduzot (2007)  2007     7.0    1357   78 mins.   \n",
       "tt0339642            Daltry Calhoun (2005)  2005     5.2    1357  100 mins.   \n",
       "tt0060880    The Quiller Memorandum (1966)  1966     6.5    1356  104 mins.   \n",
       "tt0152836                      Taal (1999)  1999     6.5    1356  179 mins.   \n",
       "tt0279977            The Navigators (2001)  2001     6.9    1356   96 mins.   \n",
       "\n",
       "                                     genres  \n",
       "id                                           \n",
       "tt0111161                       Crime|Drama  \n",
       "tt0110912                    Crime|Thriller  \n",
       "tt0137523            Drama|Mystery|Thriller  \n",
       "tt0133093           Action|Adventure|Sci-Fi  \n",
       "tt1375666  Action|Adventure|Sci-Fi|Thriller  \n",
       "...                                     ...  \n",
       "tt0807721                             Drama  \n",
       "tt0339642        Comedy|Drama|Music|Romance  \n",
       "tt0060880            Drama|Mystery|Thriller  \n",
       "tt0152836                   Musical|Romance  \n",
       "tt0279977                      Comedy|Drama  \n",
       "\n",
       "[10000 rows x 6 columns]"
      ]
     },
     "execution_count": 4,
     "metadata": {},
     "output_type": "execute_result"
    }
   ],
   "source": [
    "data"
   ]
  },
  {
   "cell_type": "markdown",
   "id": "642e46b0",
   "metadata": {},
   "source": [
    "# Exploring Our Data"
   ]
  },
  {
   "cell_type": "code",
   "execution_count": 5,
   "id": "3fb9e611",
   "metadata": {},
   "outputs": [
    {
     "data": {
      "text/html": [
       "<div>\n",
       "<style scoped>\n",
       "    .dataframe tbody tr th:only-of-type {\n",
       "        vertical-align: middle;\n",
       "    }\n",
       "\n",
       "    .dataframe tbody tr th {\n",
       "        vertical-align: top;\n",
       "    }\n",
       "\n",
       "    .dataframe thead th {\n",
       "        text-align: right;\n",
       "    }\n",
       "</style>\n",
       "<table border=\"1\" class=\"dataframe\">\n",
       "  <thead>\n",
       "    <tr style=\"text-align: right;\">\n",
       "      <th></th>\n",
       "      <th>title</th>\n",
       "      <th>year</th>\n",
       "      <th>rating</th>\n",
       "      <th>votes</th>\n",
       "      <th>length</th>\n",
       "      <th>genres</th>\n",
       "    </tr>\n",
       "    <tr>\n",
       "      <th>id</th>\n",
       "      <th></th>\n",
       "      <th></th>\n",
       "      <th></th>\n",
       "      <th></th>\n",
       "      <th></th>\n",
       "      <th></th>\n",
       "    </tr>\n",
       "  </thead>\n",
       "  <tbody>\n",
       "    <tr>\n",
       "      <th>tt0111161</th>\n",
       "      <td>The Shawshank Redemption (1994)</td>\n",
       "      <td>1994</td>\n",
       "      <td>9.2</td>\n",
       "      <td>619479</td>\n",
       "      <td>142 mins.</td>\n",
       "      <td>Crime|Drama</td>\n",
       "    </tr>\n",
       "    <tr>\n",
       "      <th>tt0110912</th>\n",
       "      <td>Pulp Fiction (1994)</td>\n",
       "      <td>1994</td>\n",
       "      <td>9.0</td>\n",
       "      <td>490065</td>\n",
       "      <td>154 mins.</td>\n",
       "      <td>Crime|Thriller</td>\n",
       "    </tr>\n",
       "    <tr>\n",
       "      <th>tt0137523</th>\n",
       "      <td>Fight Club (1999)</td>\n",
       "      <td>1999</td>\n",
       "      <td>8.8</td>\n",
       "      <td>458173</td>\n",
       "      <td>139 mins.</td>\n",
       "      <td>Drama|Mystery|Thriller</td>\n",
       "    </tr>\n",
       "    <tr>\n",
       "      <th>tt0133093</th>\n",
       "      <td>The Matrix (1999)</td>\n",
       "      <td>1999</td>\n",
       "      <td>8.7</td>\n",
       "      <td>448114</td>\n",
       "      <td>136 mins.</td>\n",
       "      <td>Action|Adventure|Sci-Fi</td>\n",
       "    </tr>\n",
       "    <tr>\n",
       "      <th>tt1375666</th>\n",
       "      <td>Inception (2010)</td>\n",
       "      <td>2010</td>\n",
       "      <td>8.9</td>\n",
       "      <td>385149</td>\n",
       "      <td>148 mins.</td>\n",
       "      <td>Action|Adventure|Sci-Fi|Thriller</td>\n",
       "    </tr>\n",
       "  </tbody>\n",
       "</table>\n",
       "</div>"
      ],
      "text/plain": [
       "                                     title  year  rating   votes     length  \\\n",
       "id                                                                            \n",
       "tt0111161  The Shawshank Redemption (1994)  1994     9.2  619479  142 mins.   \n",
       "tt0110912              Pulp Fiction (1994)  1994     9.0  490065  154 mins.   \n",
       "tt0137523                Fight Club (1999)  1999     8.8  458173  139 mins.   \n",
       "tt0133093                The Matrix (1999)  1999     8.7  448114  136 mins.   \n",
       "tt1375666                 Inception (2010)  2010     8.9  385149  148 mins.   \n",
       "\n",
       "                                     genres  \n",
       "id                                           \n",
       "tt0111161                       Crime|Drama  \n",
       "tt0110912                    Crime|Thriller  \n",
       "tt0137523            Drama|Mystery|Thriller  \n",
       "tt0133093           Action|Adventure|Sci-Fi  \n",
       "tt1375666  Action|Adventure|Sci-Fi|Thriller  "
      ]
     },
     "execution_count": 5,
     "metadata": {},
     "output_type": "execute_result"
    }
   ],
   "source": [
    "data.head()"
   ]
  },
  {
   "cell_type": "code",
   "execution_count": 6,
   "id": "e745e349",
   "metadata": {},
   "outputs": [
    {
     "data": {
      "text/html": [
       "<div>\n",
       "<style scoped>\n",
       "    .dataframe tbody tr th:only-of-type {\n",
       "        vertical-align: middle;\n",
       "    }\n",
       "\n",
       "    .dataframe tbody tr th {\n",
       "        vertical-align: top;\n",
       "    }\n",
       "\n",
       "    .dataframe thead th {\n",
       "        text-align: right;\n",
       "    }\n",
       "</style>\n",
       "<table border=\"1\" class=\"dataframe\">\n",
       "  <thead>\n",
       "    <tr style=\"text-align: right;\">\n",
       "      <th></th>\n",
       "      <th>title</th>\n",
       "      <th>year</th>\n",
       "      <th>rating</th>\n",
       "      <th>votes</th>\n",
       "      <th>length</th>\n",
       "      <th>genres</th>\n",
       "    </tr>\n",
       "    <tr>\n",
       "      <th>id</th>\n",
       "      <th></th>\n",
       "      <th></th>\n",
       "      <th></th>\n",
       "      <th></th>\n",
       "      <th></th>\n",
       "      <th></th>\n",
       "    </tr>\n",
       "  </thead>\n",
       "  <tbody>\n",
       "    <tr>\n",
       "      <th>tt0807721</th>\n",
       "      <td>Meduzot (2007)</td>\n",
       "      <td>2007</td>\n",
       "      <td>7.0</td>\n",
       "      <td>1357</td>\n",
       "      <td>78 mins.</td>\n",
       "      <td>Drama</td>\n",
       "    </tr>\n",
       "    <tr>\n",
       "      <th>tt0339642</th>\n",
       "      <td>Daltry Calhoun (2005)</td>\n",
       "      <td>2005</td>\n",
       "      <td>5.2</td>\n",
       "      <td>1357</td>\n",
       "      <td>100 mins.</td>\n",
       "      <td>Comedy|Drama|Music|Romance</td>\n",
       "    </tr>\n",
       "    <tr>\n",
       "      <th>tt0060880</th>\n",
       "      <td>The Quiller Memorandum (1966)</td>\n",
       "      <td>1966</td>\n",
       "      <td>6.5</td>\n",
       "      <td>1356</td>\n",
       "      <td>104 mins.</td>\n",
       "      <td>Drama|Mystery|Thriller</td>\n",
       "    </tr>\n",
       "    <tr>\n",
       "      <th>tt0152836</th>\n",
       "      <td>Taal (1999)</td>\n",
       "      <td>1999</td>\n",
       "      <td>6.5</td>\n",
       "      <td>1356</td>\n",
       "      <td>179 mins.</td>\n",
       "      <td>Musical|Romance</td>\n",
       "    </tr>\n",
       "    <tr>\n",
       "      <th>tt0279977</th>\n",
       "      <td>The Navigators (2001)</td>\n",
       "      <td>2001</td>\n",
       "      <td>6.9</td>\n",
       "      <td>1356</td>\n",
       "      <td>96 mins.</td>\n",
       "      <td>Comedy|Drama</td>\n",
       "    </tr>\n",
       "  </tbody>\n",
       "</table>\n",
       "</div>"
      ],
      "text/plain": [
       "                                   title  year  rating  votes     length  \\\n",
       "id                                                                         \n",
       "tt0807721                 Meduzot (2007)  2007     7.0   1357   78 mins.   \n",
       "tt0339642          Daltry Calhoun (2005)  2005     5.2   1357  100 mins.   \n",
       "tt0060880  The Quiller Memorandum (1966)  1966     6.5   1356  104 mins.   \n",
       "tt0152836                    Taal (1999)  1999     6.5   1356  179 mins.   \n",
       "tt0279977          The Navigators (2001)  2001     6.9   1356   96 mins.   \n",
       "\n",
       "                               genres  \n",
       "id                                     \n",
       "tt0807721                       Drama  \n",
       "tt0339642  Comedy|Drama|Music|Romance  \n",
       "tt0060880      Drama|Mystery|Thriller  \n",
       "tt0152836             Musical|Romance  \n",
       "tt0279977                Comedy|Drama  "
      ]
     },
     "execution_count": 6,
     "metadata": {},
     "output_type": "execute_result"
    }
   ],
   "source": [
    "data.tail()"
   ]
  },
  {
   "cell_type": "code",
   "execution_count": 7,
   "id": "a652406c",
   "metadata": {},
   "outputs": [
    {
     "data": {
      "text/html": [
       "<div>\n",
       "<style scoped>\n",
       "    .dataframe tbody tr th:only-of-type {\n",
       "        vertical-align: middle;\n",
       "    }\n",
       "\n",
       "    .dataframe tbody tr th {\n",
       "        vertical-align: top;\n",
       "    }\n",
       "\n",
       "    .dataframe thead th {\n",
       "        text-align: right;\n",
       "    }\n",
       "</style>\n",
       "<table border=\"1\" class=\"dataframe\">\n",
       "  <thead>\n",
       "    <tr style=\"text-align: right;\">\n",
       "      <th></th>\n",
       "      <th>year</th>\n",
       "      <th>rating</th>\n",
       "      <th>votes</th>\n",
       "    </tr>\n",
       "  </thead>\n",
       "  <tbody>\n",
       "    <tr>\n",
       "      <th>count</th>\n",
       "      <td>10000.000000</td>\n",
       "      <td>10000.000000</td>\n",
       "      <td>10000.000000</td>\n",
       "    </tr>\n",
       "    <tr>\n",
       "      <th>mean</th>\n",
       "      <td>1993.472800</td>\n",
       "      <td>6.386070</td>\n",
       "      <td>16604.012800</td>\n",
       "    </tr>\n",
       "    <tr>\n",
       "      <th>std</th>\n",
       "      <td>14.829924</td>\n",
       "      <td>1.189933</td>\n",
       "      <td>34563.459698</td>\n",
       "    </tr>\n",
       "    <tr>\n",
       "      <th>min</th>\n",
       "      <td>1950.000000</td>\n",
       "      <td>1.500000</td>\n",
       "      <td>1356.000000</td>\n",
       "    </tr>\n",
       "    <tr>\n",
       "      <th>25%</th>\n",
       "      <td>1986.000000</td>\n",
       "      <td>5.700000</td>\n",
       "      <td>2333.750000</td>\n",
       "    </tr>\n",
       "    <tr>\n",
       "      <th>50%</th>\n",
       "      <td>1998.000000</td>\n",
       "      <td>6.600000</td>\n",
       "      <td>4980.500000</td>\n",
       "    </tr>\n",
       "    <tr>\n",
       "      <th>75%</th>\n",
       "      <td>2005.000000</td>\n",
       "      <td>7.200000</td>\n",
       "      <td>15277.750000</td>\n",
       "    </tr>\n",
       "    <tr>\n",
       "      <th>max</th>\n",
       "      <td>2011.000000</td>\n",
       "      <td>9.200000</td>\n",
       "      <td>619479.000000</td>\n",
       "    </tr>\n",
       "  </tbody>\n",
       "</table>\n",
       "</div>"
      ],
      "text/plain": [
       "               year        rating          votes\n",
       "count  10000.000000  10000.000000   10000.000000\n",
       "mean    1993.472800      6.386070   16604.012800\n",
       "std       14.829924      1.189933   34563.459698\n",
       "min     1950.000000      1.500000    1356.000000\n",
       "25%     1986.000000      5.700000    2333.750000\n",
       "50%     1998.000000      6.600000    4980.500000\n",
       "75%     2005.000000      7.200000   15277.750000\n",
       "max     2011.000000      9.200000  619479.000000"
      ]
     },
     "execution_count": 7,
     "metadata": {},
     "output_type": "execute_result"
    }
   ],
   "source": [
    "data.describe()"
   ]
  },
  {
   "cell_type": "code",
   "execution_count": 8,
   "id": "a5b39078",
   "metadata": {},
   "outputs": [
    {
     "name": "stdout",
     "output_type": "stream",
     "text": [
      "<class 'pandas.core.frame.DataFrame'>\n",
      "Index: 10000 entries, tt0111161 to tt0279977\n",
      "Data columns (total 6 columns):\n",
      " #   Column  Non-Null Count  Dtype  \n",
      "---  ------  --------------  -----  \n",
      " 0   title   10000 non-null  object \n",
      " 1   year    10000 non-null  int64  \n",
      " 2   rating  10000 non-null  float64\n",
      " 3   votes   10000 non-null  int64  \n",
      " 4   length  10000 non-null  object \n",
      " 5   genres  9999 non-null   object \n",
      "dtypes: float64(1), int64(2), object(3)\n",
      "memory usage: 546.9+ KB\n"
     ]
    }
   ],
   "source": [
    "data.info()"
   ]
  },
  {
   "cell_type": "markdown",
   "id": "bcc2345a",
   "metadata": {},
   "source": [
    "# Exporting Data to .csv file"
   ]
  },
  {
   "cell_type": "code",
   "execution_count": 9,
   "id": "4589d224",
   "metadata": {},
   "outputs": [],
   "source": [
    "data.to_csv('test.csv', header=True, index=True, sep=',')"
   ]
  },
  {
   "cell_type": "markdown",
   "id": "796de15d",
   "metadata": {},
   "source": [
    "# Sorting Data by rating in ascending order"
   ]
  },
  {
   "cell_type": "code",
   "execution_count": 10,
   "id": "39cd90f6",
   "metadata": {
    "scrolled": true
   },
   "outputs": [
    {
     "data": {
      "text/html": [
       "<div>\n",
       "<style scoped>\n",
       "    .dataframe tbody tr th:only-of-type {\n",
       "        vertical-align: middle;\n",
       "    }\n",
       "\n",
       "    .dataframe tbody tr th {\n",
       "        vertical-align: top;\n",
       "    }\n",
       "\n",
       "    .dataframe thead th {\n",
       "        text-align: right;\n",
       "    }\n",
       "</style>\n",
       "<table border=\"1\" class=\"dataframe\">\n",
       "  <thead>\n",
       "    <tr style=\"text-align: right;\">\n",
       "      <th></th>\n",
       "      <th>title</th>\n",
       "      <th>year</th>\n",
       "      <th>rating</th>\n",
       "      <th>votes</th>\n",
       "      <th>length</th>\n",
       "      <th>genres</th>\n",
       "    </tr>\n",
       "    <tr>\n",
       "      <th>id</th>\n",
       "      <th></th>\n",
       "      <th></th>\n",
       "      <th></th>\n",
       "      <th></th>\n",
       "      <th></th>\n",
       "      <th></th>\n",
       "    </tr>\n",
       "  </thead>\n",
       "  <tbody>\n",
       "    <tr>\n",
       "      <th>tt0111161</th>\n",
       "      <td>The Shawshank Redemption (1994)</td>\n",
       "      <td>1994</td>\n",
       "      <td>9.2</td>\n",
       "      <td>619479</td>\n",
       "      <td>142 mins.</td>\n",
       "      <td>Crime|Drama</td>\n",
       "    </tr>\n",
       "    <tr>\n",
       "      <th>tt0068646</th>\n",
       "      <td>The Godfather (1972)</td>\n",
       "      <td>1972</td>\n",
       "      <td>9.2</td>\n",
       "      <td>474189</td>\n",
       "      <td>175 mins.</td>\n",
       "      <td>Crime|Drama</td>\n",
       "    </tr>\n",
       "    <tr>\n",
       "      <th>tt0060196</th>\n",
       "      <td>The Good, the Bad and the Ugly (1966)</td>\n",
       "      <td>1966</td>\n",
       "      <td>9.0</td>\n",
       "      <td>195238</td>\n",
       "      <td>161 mins.</td>\n",
       "      <td>Western</td>\n",
       "    </tr>\n",
       "    <tr>\n",
       "      <th>tt0110912</th>\n",
       "      <td>Pulp Fiction (1994)</td>\n",
       "      <td>1994</td>\n",
       "      <td>9.0</td>\n",
       "      <td>490065</td>\n",
       "      <td>154 mins.</td>\n",
       "      <td>Crime|Thriller</td>\n",
       "    </tr>\n",
       "    <tr>\n",
       "      <th>tt0252487</th>\n",
       "      <td>Outrageous Class (1975)</td>\n",
       "      <td>1975</td>\n",
       "      <td>9.0</td>\n",
       "      <td>9823</td>\n",
       "      <td>87 mins.</td>\n",
       "      <td>Comedy|Drama</td>\n",
       "    </tr>\n",
       "    <tr>\n",
       "      <th>...</th>\n",
       "      <td>...</td>\n",
       "      <td>...</td>\n",
       "      <td>...</td>\n",
       "      <td>...</td>\n",
       "      <td>...</td>\n",
       "      <td>...</td>\n",
       "    </tr>\n",
       "    <tr>\n",
       "      <th>tt0364986</th>\n",
       "      <td>Ben &amp; Arthur (2002)</td>\n",
       "      <td>2002</td>\n",
       "      <td>1.5</td>\n",
       "      <td>4675</td>\n",
       "      <td>85 mins.</td>\n",
       "      <td>Drama|Romance</td>\n",
       "    </tr>\n",
       "    <tr>\n",
       "      <th>tt0060753</th>\n",
       "      <td>Night Train to Mundo Fine (1966)</td>\n",
       "      <td>1966</td>\n",
       "      <td>1.5</td>\n",
       "      <td>3542</td>\n",
       "      <td>89 mins.</td>\n",
       "      <td>Action|Adventure|Crime|War</td>\n",
       "    </tr>\n",
       "    <tr>\n",
       "      <th>tt0421051</th>\n",
       "      <td>Daniel the Wizard (2004)</td>\n",
       "      <td>2004</td>\n",
       "      <td>1.5</td>\n",
       "      <td>8271</td>\n",
       "      <td>81 mins.</td>\n",
       "      <td>Comedy|Crime|Family|Fantasy|Horror</td>\n",
       "    </tr>\n",
       "    <tr>\n",
       "      <th>tt0059464</th>\n",
       "      <td>Monster a-Go Go (1965)</td>\n",
       "      <td>1965</td>\n",
       "      <td>1.5</td>\n",
       "      <td>3255</td>\n",
       "      <td>70 mins.</td>\n",
       "      <td>Sci-Fi|Horror</td>\n",
       "    </tr>\n",
       "    <tr>\n",
       "      <th>tt0060666</th>\n",
       "      <td>Manos: The Hands of Fate (1966)</td>\n",
       "      <td>1966</td>\n",
       "      <td>1.5</td>\n",
       "      <td>20927</td>\n",
       "      <td>74 mins.</td>\n",
       "      <td>Horror</td>\n",
       "    </tr>\n",
       "  </tbody>\n",
       "</table>\n",
       "<p>10000 rows × 6 columns</p>\n",
       "</div>"
      ],
      "text/plain": [
       "                                           title  year  rating   votes  \\\n",
       "id                                                                       \n",
       "tt0111161        The Shawshank Redemption (1994)  1994     9.2  619479   \n",
       "tt0068646                   The Godfather (1972)  1972     9.2  474189   \n",
       "tt0060196  The Good, the Bad and the Ugly (1966)  1966     9.0  195238   \n",
       "tt0110912                    Pulp Fiction (1994)  1994     9.0  490065   \n",
       "tt0252487                Outrageous Class (1975)  1975     9.0    9823   \n",
       "...                                          ...   ...     ...     ...   \n",
       "tt0364986                    Ben & Arthur (2002)  2002     1.5    4675   \n",
       "tt0060753       Night Train to Mundo Fine (1966)  1966     1.5    3542   \n",
       "tt0421051               Daniel the Wizard (2004)  2004     1.5    8271   \n",
       "tt0059464                 Monster a-Go Go (1965)  1965     1.5    3255   \n",
       "tt0060666        Manos: The Hands of Fate (1966)  1966     1.5   20927   \n",
       "\n",
       "              length                              genres  \n",
       "id                                                        \n",
       "tt0111161  142 mins.                         Crime|Drama  \n",
       "tt0068646  175 mins.                         Crime|Drama  \n",
       "tt0060196  161 mins.                             Western  \n",
       "tt0110912  154 mins.                      Crime|Thriller  \n",
       "tt0252487   87 mins.                        Comedy|Drama  \n",
       "...              ...                                 ...  \n",
       "tt0364986   85 mins.                       Drama|Romance  \n",
       "tt0060753   89 mins.          Action|Adventure|Crime|War  \n",
       "tt0421051   81 mins.  Comedy|Crime|Family|Fantasy|Horror  \n",
       "tt0059464   70 mins.                       Sci-Fi|Horror  \n",
       "tt0060666   74 mins.                              Horror  \n",
       "\n",
       "[10000 rows x 6 columns]"
      ]
     },
     "execution_count": 10,
     "metadata": {},
     "output_type": "execute_result"
    }
   ],
   "source": [
    "data.sort_values(by=\"rating\", ascending=False)"
   ]
  },
  {
   "cell_type": "markdown",
   "id": "610cec59",
   "metadata": {},
   "source": [
    "# Creating Data Frames from Scratch"
   ]
  },
  {
   "cell_type": "code",
   "execution_count": 11,
   "id": "3b10cc71",
   "metadata": {},
   "outputs": [],
   "source": [
    "sample_data = {\n",
    "   'tv': [230.1, 44.5, 17.2],\n",
    "   'radio': [37.8, 39.3, 45.9],\n",
    "   'news': [69.2, 45.1, 69.3],\n",
    "   'sales': [22.1, 10.4, 9.3]\n",
    "}"
   ]
  },
  {
   "cell_type": "code",
   "execution_count": 12,
   "id": "b3df3231",
   "metadata": {},
   "outputs": [],
   "source": [
    "data2 = pd.DataFrame(sample_data)"
   ]
  },
  {
   "cell_type": "code",
   "execution_count": 13,
   "id": "7f22e648",
   "metadata": {},
   "outputs": [
    {
     "data": {
      "text/html": [
       "<div>\n",
       "<style scoped>\n",
       "    .dataframe tbody tr th:only-of-type {\n",
       "        vertical-align: middle;\n",
       "    }\n",
       "\n",
       "    .dataframe tbody tr th {\n",
       "        vertical-align: top;\n",
       "    }\n",
       "\n",
       "    .dataframe thead th {\n",
       "        text-align: right;\n",
       "    }\n",
       "</style>\n",
       "<table border=\"1\" class=\"dataframe\">\n",
       "  <thead>\n",
       "    <tr style=\"text-align: right;\">\n",
       "      <th></th>\n",
       "      <th>tv</th>\n",
       "      <th>radio</th>\n",
       "      <th>news</th>\n",
       "      <th>sales</th>\n",
       "    </tr>\n",
       "  </thead>\n",
       "  <tbody>\n",
       "    <tr>\n",
       "      <th>0</th>\n",
       "      <td>230.1</td>\n",
       "      <td>37.8</td>\n",
       "      <td>69.2</td>\n",
       "      <td>22.1</td>\n",
       "    </tr>\n",
       "    <tr>\n",
       "      <th>1</th>\n",
       "      <td>44.5</td>\n",
       "      <td>39.3</td>\n",
       "      <td>45.1</td>\n",
       "      <td>10.4</td>\n",
       "    </tr>\n",
       "    <tr>\n",
       "      <th>2</th>\n",
       "      <td>17.2</td>\n",
       "      <td>45.9</td>\n",
       "      <td>69.3</td>\n",
       "      <td>9.3</td>\n",
       "    </tr>\n",
       "  </tbody>\n",
       "</table>\n",
       "</div>"
      ],
      "text/plain": [
       "      tv  radio  news  sales\n",
       "0  230.1   37.8  69.2   22.1\n",
       "1   44.5   39.3  45.1   10.4\n",
       "2   17.2   45.9  69.3    9.3"
      ]
     },
     "execution_count": 13,
     "metadata": {},
     "output_type": "execute_result"
    }
   ],
   "source": [
    "data2"
   ]
  },
  {
   "cell_type": "markdown",
   "id": "f9dc5845",
   "metadata": {},
   "source": [
    "# Deleting Data Frame"
   ]
  },
  {
   "cell_type": "code",
   "execution_count": 14,
   "id": "beed3820",
   "metadata": {},
   "outputs": [],
   "source": [
    "del data2"
   ]
  },
  {
   "cell_type": "markdown",
   "id": "e95ee2ae",
   "metadata": {},
   "source": [
    "# Selecting Data"
   ]
  },
  {
   "cell_type": "code",
   "execution_count": 15,
   "id": "860f5b87",
   "metadata": {},
   "outputs": [
    {
     "data": {
      "text/plain": [
       "id\n",
       "tt0111161    The Shawshank Redemption (1994)\n",
       "tt0110912                Pulp Fiction (1994)\n",
       "tt0137523                  Fight Club (1999)\n",
       "tt0133093                  The Matrix (1999)\n",
       "tt1375666                   Inception (2010)\n",
       "                          ...               \n",
       "tt0807721                     Meduzot (2007)\n",
       "tt0339642              Daltry Calhoun (2005)\n",
       "tt0060880      The Quiller Memorandum (1966)\n",
       "tt0152836                        Taal (1999)\n",
       "tt0279977              The Navigators (2001)\n",
       "Name: title, Length: 10000, dtype: object"
      ]
     },
     "execution_count": 15,
     "metadata": {},
     "output_type": "execute_result"
    }
   ],
   "source": [
    "data['title']"
   ]
  },
  {
   "cell_type": "code",
   "execution_count": 16,
   "id": "a7fab1c9",
   "metadata": {
    "scrolled": true
   },
   "outputs": [
    {
     "data": {
      "text/html": [
       "<div>\n",
       "<style scoped>\n",
       "    .dataframe tbody tr th:only-of-type {\n",
       "        vertical-align: middle;\n",
       "    }\n",
       "\n",
       "    .dataframe tbody tr th {\n",
       "        vertical-align: top;\n",
       "    }\n",
       "\n",
       "    .dataframe thead th {\n",
       "        text-align: right;\n",
       "    }\n",
       "</style>\n",
       "<table border=\"1\" class=\"dataframe\">\n",
       "  <thead>\n",
       "    <tr style=\"text-align: right;\">\n",
       "      <th></th>\n",
       "      <th>title</th>\n",
       "      <th>rating</th>\n",
       "    </tr>\n",
       "    <tr>\n",
       "      <th>id</th>\n",
       "      <th></th>\n",
       "      <th></th>\n",
       "    </tr>\n",
       "  </thead>\n",
       "  <tbody>\n",
       "    <tr>\n",
       "      <th>tt0111161</th>\n",
       "      <td>The Shawshank Redemption (1994)</td>\n",
       "      <td>9.2</td>\n",
       "    </tr>\n",
       "    <tr>\n",
       "      <th>tt0110912</th>\n",
       "      <td>Pulp Fiction (1994)</td>\n",
       "      <td>9.0</td>\n",
       "    </tr>\n",
       "    <tr>\n",
       "      <th>tt0137523</th>\n",
       "      <td>Fight Club (1999)</td>\n",
       "      <td>8.8</td>\n",
       "    </tr>\n",
       "    <tr>\n",
       "      <th>tt0133093</th>\n",
       "      <td>The Matrix (1999)</td>\n",
       "      <td>8.7</td>\n",
       "    </tr>\n",
       "    <tr>\n",
       "      <th>tt1375666</th>\n",
       "      <td>Inception (2010)</td>\n",
       "      <td>8.9</td>\n",
       "    </tr>\n",
       "    <tr>\n",
       "      <th>...</th>\n",
       "      <td>...</td>\n",
       "      <td>...</td>\n",
       "    </tr>\n",
       "    <tr>\n",
       "      <th>tt0807721</th>\n",
       "      <td>Meduzot (2007)</td>\n",
       "      <td>7.0</td>\n",
       "    </tr>\n",
       "    <tr>\n",
       "      <th>tt0339642</th>\n",
       "      <td>Daltry Calhoun (2005)</td>\n",
       "      <td>5.2</td>\n",
       "    </tr>\n",
       "    <tr>\n",
       "      <th>tt0060880</th>\n",
       "      <td>The Quiller Memorandum (1966)</td>\n",
       "      <td>6.5</td>\n",
       "    </tr>\n",
       "    <tr>\n",
       "      <th>tt0152836</th>\n",
       "      <td>Taal (1999)</td>\n",
       "      <td>6.5</td>\n",
       "    </tr>\n",
       "    <tr>\n",
       "      <th>tt0279977</th>\n",
       "      <td>The Navigators (2001)</td>\n",
       "      <td>6.9</td>\n",
       "    </tr>\n",
       "  </tbody>\n",
       "</table>\n",
       "<p>10000 rows × 2 columns</p>\n",
       "</div>"
      ],
      "text/plain": [
       "                                     title  rating\n",
       "id                                                \n",
       "tt0111161  The Shawshank Redemption (1994)     9.2\n",
       "tt0110912              Pulp Fiction (1994)     9.0\n",
       "tt0137523                Fight Club (1999)     8.8\n",
       "tt0133093                The Matrix (1999)     8.7\n",
       "tt1375666                 Inception (2010)     8.9\n",
       "...                                    ...     ...\n",
       "tt0807721                   Meduzot (2007)     7.0\n",
       "tt0339642            Daltry Calhoun (2005)     5.2\n",
       "tt0060880    The Quiller Memorandum (1966)     6.5\n",
       "tt0152836                      Taal (1999)     6.5\n",
       "tt0279977            The Navigators (2001)     6.9\n",
       "\n",
       "[10000 rows x 2 columns]"
      ]
     },
     "execution_count": 16,
     "metadata": {},
     "output_type": "execute_result"
    }
   ],
   "source": [
    "data[['title','rating']]"
   ]
  },
  {
   "cell_type": "markdown",
   "id": "97fdd22c",
   "metadata": {},
   "source": [
    "# calculating mean,min and max of rating"
   ]
  },
  {
   "cell_type": "code",
   "execution_count": 17,
   "id": "c3a9716a",
   "metadata": {},
   "outputs": [
    {
     "data": {
      "text/plain": [
       "6.38607"
      ]
     },
     "execution_count": 17,
     "metadata": {},
     "output_type": "execute_result"
    }
   ],
   "source": [
    "data['rating'].mean()"
   ]
  },
  {
   "cell_type": "code",
   "execution_count": 18,
   "id": "3555be42",
   "metadata": {},
   "outputs": [
    {
     "data": {
      "text/plain": [
       "9.2"
      ]
     },
     "execution_count": 18,
     "metadata": {},
     "output_type": "execute_result"
    }
   ],
   "source": [
    "data['rating'].max()"
   ]
  },
  {
   "cell_type": "code",
   "execution_count": 19,
   "id": "1191fab9",
   "metadata": {},
   "outputs": [
    {
     "data": {
      "text/plain": [
       "1.5"
      ]
     },
     "execution_count": 19,
     "metadata": {},
     "output_type": "execute_result"
    }
   ],
   "source": [
    "data['rating'].min()"
   ]
  },
  {
   "cell_type": "markdown",
   "id": "fc3b0c7a",
   "metadata": {},
   "source": [
    "# finding unique genres "
   ]
  },
  {
   "cell_type": "code",
   "execution_count": 20,
   "id": "ca80799c",
   "metadata": {},
   "outputs": [
    {
     "data": {
      "text/plain": [
       "array(['Crime|Drama', 'Crime|Thriller', 'Drama|Mystery|Thriller', ...,\n",
       "       'Drama|War|Adventure|Romance', 'Western|Sci-Fi|Thriller',\n",
       "       'Adventure|Comedy|Drama|War'], dtype=object)"
      ]
     },
     "execution_count": 20,
     "metadata": {},
     "output_type": "execute_result"
    }
   ],
   "source": [
    "data['genres'].unique()"
   ]
  },
  {
   "cell_type": "markdown",
   "id": "35dafbc2",
   "metadata": {},
   "source": [
    "# finding no of movies based on rating"
   ]
  },
  {
   "cell_type": "code",
   "execution_count": 21,
   "id": "dfd7d641",
   "metadata": {},
   "outputs": [
    {
     "data": {
      "text/plain": [
       "7.1    401\n",
       "6.8    401\n",
       "7.2    386\n",
       "6.7    384\n",
       "7.0    382\n",
       "      ... \n",
       "1.5      7\n",
       "1.6      6\n",
       "8.9      5\n",
       "9.0      4\n",
       "9.2      2\n",
       "Name: rating, Length: 77, dtype: int64"
      ]
     },
     "execution_count": 21,
     "metadata": {},
     "output_type": "execute_result"
    }
   ],
   "source": [
    "data['rating'].value_counts()"
   ]
  },
  {
   "cell_type": "code",
   "execution_count": 22,
   "id": "f3232e43",
   "metadata": {},
   "outputs": [
    {
     "data": {
      "text/plain": [
       "1.5     7\n",
       "1.6     6\n",
       "1.7    12\n",
       "1.8    12\n",
       "1.9     9\n",
       "       ..\n",
       "8.7    13\n",
       "8.8     9\n",
       "8.9     5\n",
       "9.0     4\n",
       "9.2     2\n",
       "Name: rating, Length: 77, dtype: int64"
      ]
     },
     "execution_count": 22,
     "metadata": {},
     "output_type": "execute_result"
    }
   ],
   "source": [
    "data['rating'].value_counts().sort_index()"
   ]
  },
  {
   "cell_type": "markdown",
   "id": "7dfb9348",
   "metadata": {},
   "source": [
    "# Enabling Matplotlib"
   ]
  },
  {
   "cell_type": "code",
   "execution_count": 23,
   "id": "342c6357",
   "metadata": {},
   "outputs": [],
   "source": [
    "%matplotlib inline"
   ]
  },
  {
   "cell_type": "markdown",
   "id": "117afb68",
   "metadata": {},
   "source": [
    "# Ploting"
   ]
  },
  {
   "cell_type": "code",
   "execution_count": 24,
   "id": "761c1167",
   "metadata": {},
   "outputs": [
    {
     "data": {
      "text/plain": [
       "<AxesSubplot:xlabel='id'>"
      ]
     },
     "execution_count": 24,
     "metadata": {},
     "output_type": "execute_result"
    },
    {
     "data": {
      "image/png": "[encoded data removed]",
      "text/plain": [
       "<Figure size 432x288 with 1 Axes>"
      ]
     },
     "metadata": {
      "needs_background": "light"
     },
     "output_type": "display_data"
    }
   ],
   "source": [
    "data.plot()"
   ]
  },
  {
   "cell_type": "code",
   "execution_count": 34,
   "id": "3ab33f43",
   "metadata": {},
   "outputs": [
    {
     "data": {
      "text/plain": [
       "<AxesSubplot:xlabel='rating', ylabel='votes'>"
      ]
     },
     "execution_count": 34,
     "metadata": {},
     "output_type": "execute_result"
    },
    {
     "data": {
      "image/png": "[encoded data removed]",
      "text/plain": [
       "<Figure size 432x288 with 1 Axes>"
      ]
     },
     "metadata": {
      "needs_background": "light"
     },
     "output_type": "display_data"
    }
   ],
   "source": [
    "data.plot(kind='scatter', x='rating', y='votes')"
   ]
  }
 ],
 "metadata": {
  "kernelspec": {
   "display_name": "Python 3 (ipykernel)",
   "language": "python",
   "name": "python3"
  },
  "language_info": {
   "codemirror_mode": {
    "name": "ipython",
    "version": 3
   },
   "file_extension": ".py",
   "mimetype": "text/x-python",
   "name": "python",
   "nbconvert_exporter": "python",
   "pygments_lexer": "ipython3",
   "version": "3.9.6"
  }
 },
 "nbformat": 4,
 "nbformat_minor": 5
}
